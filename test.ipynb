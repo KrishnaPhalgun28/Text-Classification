{
  "nbformat": 4,
  "nbformat_minor": 0,
  "metadata": {
    "colab": {
      "name": "test.ipynb",
      "provenance": [],
      "collapsed_sections": []
    },
    "kernelspec": {
      "name": "python3",
      "display_name": "Python 3"
    },
    "accelerator": "GPU"
  },
  "cells": [
    {
      "cell_type": "code",
      "metadata": {
        "id": "nFrq1njfnFkJ"
      },
      "source": [
        "from google.colab import drive\n",
        "drive.mount('/content/drive')"
      ],
      "execution_count": null,
      "outputs": []
    },
    {
      "cell_type": "code",
      "metadata": {
        "id": "NQc6Hy43hknz"
      },
      "source": [
        "!pip install numpy==1.19.4\r\n",
        "!pip install tensorflow==2.4.0\r\n",
        "!pip install tensorflow-hub==0.10.0\r\n",
        "!pip install bert-for-tf2==0.14.7\r\n",
        "!pip install sentencepiece==0.1.94"
      ],
      "execution_count": null,
      "outputs": []
    },
    {
      "cell_type": "code",
      "metadata": {
        "id": "mpPkw-jwnamK"
      },
      "source": [
        "import numpy as np\r\n",
        "\r\n",
        "try:\r\n",
        "    %tensorflow_version 2.x\r\n",
        "except Exception:\r\n",
        "    pass\r\n",
        "\r\n",
        "import bert\r\n",
        "import tensorflow as tf\r\n",
        "import tensorflow_hub as hub\r\n",
        "from tensorflow.keras import layers"
      ],
      "execution_count": 6,
      "outputs": []
    },
    {
      "cell_type": "code",
      "metadata": {
        "id": "rVMP9uBFimF7"
      },
      "source": [
        "FullTokenizer = bert.bert_tokenization.FullTokenizer\r\n",
        "bert_layer = hub.KerasLayer(\"https://tfhub.dev/tensorflow/bert_en_uncased_L-12_H-768_A-12/1\", trainable=False)\r\n",
        "vocab_file = bert_layer.resolved_object.vocab_file.asset_path.numpy()\r\n",
        "do_lower_case = bert_layer.resolved_object.do_lower_case.numpy()\r\n",
        "tokenizer = FullTokenizer(vocab_file, do_lower_case)"
      ],
      "execution_count": 7,
      "outputs": []
    },
    {
      "cell_type": "code",
      "metadata": {
        "id": "5dnZY7pJir3k"
      },
      "source": [
        "def encode_sentence(sentence):\r\n",
        "    return tokenizer.convert_tokens_to_ids(tokenizer.tokenize(sentence))"
      ],
      "execution_count": 8,
      "outputs": []
    },
    {
      "cell_type": "code",
      "metadata": {
        "id": "luJCNr2KibL7"
      },
      "source": [
        "model = tf.keras.models.load_model('/content/drive/MyDrive/Text-Classification/model')"
      ],
      "execution_count": 9,
      "outputs": []
    },
    {
      "cell_type": "code",
      "metadata": {
        "id": "D1szGmqEiUfV"
      },
      "source": [
        "def get_predictions(model, sentence):\r\n",
        "    if len(sentence.split()) < 3: return 'neutral'\r\n",
        "    tokens = encode_sentence(sentence)\r\n",
        "    inputs = tf.expand_dims(tokens, 0)\r\n",
        "    output = model(inputs, training=False)\r\n",
        "    return \"negative\" if not np.floor(output*2) else \"positive\""
      ],
      "execution_count": 10,
      "outputs": []
    },
    {
      "cell_type": "code",
      "metadata": {
        "id": "z8ixp5JrixM9",
        "colab": {
          "base_uri": "https://localhost:8080/",
          "height": 35
        },
        "outputId": "d16e2eba-b955-45cb-e352-518f6d3caab7"
      },
      "source": [
        "get_predictions(model, 'today is my favourite day')"
      ],
      "execution_count": 12,
      "outputs": [
        {
          "output_type": "execute_result",
          "data": {
            "application/vnd.google.colaboratory.intrinsic+json": {
              "type": "string"
            },
            "text/plain": [
              "'positive'"
            ]
          },
          "metadata": {
            "tags": []
          },
          "execution_count": 12
        }
      ]
    }
  ]
}